{
 "cells": [
  {
   "cell_type": "markdown",
   "metadata": {},
   "source": [
    "# Analyzing IMDB Data in Keras"
   ]
  },
  {
   "cell_type": "code",
   "execution_count": 1,
   "metadata": {},
   "outputs": [
    {
     "name": "stderr",
     "output_type": "stream",
     "text": [
      "Using Theano backend.\n"
     ]
    }
   ],
   "source": [
    "# Imports\n",
    "import numpy as np\n",
    "import keras\n",
    "from keras.datasets import imdb\n",
    "from keras.models import Sequential\n",
    "from keras.layers import Dense, Dropout, Activation\n",
    "from keras.preprocessing.text import Tokenizer\n",
    "import matplotlib.pyplot as plt\n",
    "%matplotlib inline\n",
    "\n",
    "np.random.seed(42)"
   ]
  },
  {
   "cell_type": "markdown",
   "metadata": {},
   "source": [
    "## 1. Loading the data\n",
    "This dataset comes preloaded with Keras, so one simple command will get us training and testing data. There is a parameter for how many words we want to look at. We've set it at 1000, but feel free to experiment."
   ]
  },
  {
   "cell_type": "code",
   "execution_count": 2,
   "metadata": {},
   "outputs": [
    {
     "name": "stdout",
     "output_type": "stream",
     "text": [
      "Downloading data from https://s3.amazonaws.com/text-datasets/imdb.npz\n",
      "17448960/17464789 [============================>.] - ETA: 0s(25000L,)\n",
      "(25000L,)\n"
     ]
    }
   ],
   "source": [
    "# Loading the data (it's preloaded in Keras)\n",
    "(x_train, y_train), (x_test, y_test) = imdb.load_data(num_words=1000)\n",
    "\n",
    "print(x_train.shape)\n",
    "print(x_test.shape)"
   ]
  },
  {
   "cell_type": "markdown",
   "metadata": {},
   "source": [
    "## 2. Examining the data\n",
    "Notice that the data has been already pre-processed, where all the words have numbers, and the reviews come in as a vector with the words that the review contains. For example, if the word 'the' is the first one in our dictionary, and a review contains the word 'the', then there is a 1 in the corresponding vector.\n",
    "\n",
    "The output comes as a vector of 1's and 0's, where 1 is a positive sentiment for the review, and 0 is negative."
   ]
  },
  {
   "cell_type": "code",
   "execution_count": 3,
   "metadata": {},
   "outputs": [
    {
     "name": "stdout",
     "output_type": "stream",
     "text": [
      "[1, 14, 22, 16, 43, 530, 973, 2, 2, 65, 458, 2, 66, 2, 4, 173, 36, 256, 5, 25, 100, 43, 838, 112, 50, 670, 2, 9, 35, 480, 284, 5, 150, 4, 172, 112, 167, 2, 336, 385, 39, 4, 172, 2, 2, 17, 546, 38, 13, 447, 4, 192, 50, 16, 6, 147, 2, 19, 14, 22, 4, 2, 2, 469, 4, 22, 71, 87, 12, 16, 43, 530, 38, 76, 15, 13, 2, 4, 22, 17, 515, 17, 12, 16, 626, 18, 2, 5, 62, 386, 12, 8, 316, 8, 106, 5, 4, 2, 2, 16, 480, 66, 2, 33, 4, 130, 12, 16, 38, 619, 5, 25, 124, 51, 36, 135, 48, 25, 2, 33, 6, 22, 12, 215, 28, 77, 52, 5, 14, 407, 16, 82, 2, 8, 4, 107, 117, 2, 15, 256, 4, 2, 7, 2, 5, 723, 36, 71, 43, 530, 476, 26, 400, 317, 46, 7, 4, 2, 2, 13, 104, 88, 4, 381, 15, 297, 98, 32, 2, 56, 26, 141, 6, 194, 2, 18, 4, 226, 22, 21, 134, 476, 26, 480, 5, 144, 30, 2, 18, 51, 36, 28, 224, 92, 25, 104, 4, 226, 65, 16, 38, 2, 88, 12, 16, 283, 5, 16, 2, 113, 103, 32, 15, 16, 2, 19, 178, 32]\n",
      "1\n"
     ]
    }
   ],
   "source": [
    "print(x_train[0])\n",
    "print(y_train[0])"
   ]
  },
  {
   "cell_type": "markdown",
   "metadata": {},
   "source": [
    "## 3. One-hot encoding the output\n",
    "Here, we'll turn the input vectors into (0,1)-vectors. For example, if the pre-processed vector contains the number 14, then in the processed vector, the 14th entry will be 1."
   ]
  },
  {
   "cell_type": "code",
   "execution_count": 4,
   "metadata": {},
   "outputs": [
    {
     "name": "stdout",
     "output_type": "stream",
     "text": [
      "[ 0.  1.  1.  0.  1.  1.  1.  1.  1.  1.  0.  0.  1.  1.  1.  1.  1.  1.\n",
      "  1.  1.  0.  1.  1.  0.  0.  1.  1.  0.  1.  0.  1.  0.  1.  1.  0.  1.\n",
      "  1.  0.  1.  1.  0.  0.  0.  1.  0.  0.  1.  0.  1.  0.  1.  1.  1.  0.\n",
      "  0.  0.  1.  0.  0.  0.  0.  0.  1.  0.  0.  1.  1.  0.  0.  0.  0.  1.\n",
      "  0.  0.  0.  0.  1.  1.  0.  0.  0.  0.  1.  0.  0.  0.  0.  1.  1.  0.\n",
      "  0.  0.  1.  0.  0.  0.  0.  0.  1.  0.  1.  0.  0.  1.  1.  0.  1.  1.\n",
      "  0.  0.  0.  0.  1.  1.  0.  0.  0.  1.  0.  0.  0.  0.  0.  0.  1.  0.\n",
      "  0.  0.  0.  0.  1.  0.  0.  0.  1.  1.  0.  0.  0.  0.  0.  1.  0.  0.\n",
      "  1.  0.  0.  1.  0.  0.  1.  0.  0.  0.  0.  0.  0.  0.  0.  0.  0.  0.\n",
      "  0.  0.  0.  0.  0.  1.  0.  0.  0.  0.  1.  1.  0.  0.  0.  0.  1.  0.\n",
      "  0.  0.  0.  0.  0.  0.  0.  0.  0.  0.  0.  0.  1.  0.  1.  0.  0.  0.\n",
      "  0.  0.  0.  0.  0.  0.  0.  0.  0.  0.  0.  0.  0.  0.  0.  0.  0.  1.\n",
      "  0.  0.  0.  0.  0.  0.  0.  0.  1.  0.  1.  0.  0.  0.  0.  0.  0.  0.\n",
      "  0.  0.  0.  0.  0.  0.  0.  0.  0.  0.  0.  0.  0.  0.  0.  0.  0.  0.\n",
      "  0.  0.  0.  0.  1.  0.  0.  0.  0.  0.  0.  0.  0.  0.  0.  0.  0.  0.\n",
      "  0.  0.  0.  0.  0.  0.  0.  0.  0.  0.  0.  0.  0.  1.  1.  0.  0.  0.\n",
      "  0.  0.  0.  0.  0.  0.  0.  0.  0.  1.  0.  0.  0.  0.  0.  0.  0.  0.\n",
      "  0.  0.  0.  0.  0.  0.  0.  0.  0.  0.  1.  1.  0.  0.  0.  0.  0.  0.\n",
      "  0.  0.  0.  0.  0.  0.  0.  0.  0.  0.  0.  0.  1.  0.  0.  0.  0.  0.\n",
      "  0.  0.  0.  0.  0.  0.  0.  0.  0.  0.  0.  0.  0.  0.  0.  0.  0.  0.\n",
      "  0.  0.  0.  0.  0.  0.  0.  0.  0.  0.  0.  0.  0.  0.  0.  0.  0.  0.\n",
      "  0.  0.  0.  1.  0.  0.  0.  1.  1.  0.  0.  0.  0.  0.  0.  0.  0.  0.\n",
      "  0.  0.  0.  0.  1.  0.  0.  0.  0.  0.  0.  1.  0.  0.  0.  0.  0.  0.\n",
      "  0.  0.  0.  0.  0.  0.  0.  0.  0.  0.  0.  0.  0.  0.  0.  0.  0.  0.\n",
      "  0.  0.  0.  0.  0.  0.  0.  0.  0.  0.  0.  0.  0.  0.  0.  1.  0.  0.\n",
      "  0.  0.  0.  0.  0.  0.  0.  0.  1.  0.  0.  0.  0.  0.  0.  0.  0.  0.\n",
      "  0.  1.  0.  0.  0.  0.  0.  0.  1.  0.  0.  0.  1.  0.  0.  0.  0.  0.\n",
      "  0.  0.  0.  0.  0.  0.  0.  0.  0.  0.  0.  0.  0.  0.  0.  0.  0.  0.\n",
      "  0.  0.  0.  0.  0.  0.  0.  0.  0.  0.  0.  1.  0.  0.  0.  0.  0.  0.\n",
      "  0.  0.  0.  0.  0.  0.  0.  0.  1.  0.  0.  0.  0.  0.  0.  0.  0.  0.\n",
      "  0.  0.  0.  0.  0.  0.  1.  0.  0.  0.  0.  0.  0.  0.  0.  0.  0.  0.\n",
      "  0.  0.  0.  0.  0.  0.  0.  0.  0.  0.  0.  0.  0.  0.  0.  0.  0.  0.\n",
      "  0.  0.  0.  0.  0.  0.  0.  0.  0.  0.  0.  0.  0.  0.  0.  0.  0.  0.\n",
      "  0.  0.  0.  0.  0.  0.  0.  0.  0.  0.  0.  0.  0.  0.  0.  0.  0.  0.\n",
      "  0.  0.  0.  0.  0.  0.  0.  1.  0.  0.  0.  0.  0.  0.  1.  0.  0.  0.\n",
      "  0.  0.  0.  0.  0.  0.  0.  0.  0.  0.  0.  0.  0.  0.  0.  0.  0.  0.\n",
      "  0.  0.  0.  0.  0.  0.  0.  0.  0.  0.  0.  0.  0.  0.  0.  0.  0.  0.\n",
      "  0.  0.  0.  0.  1.  0.  0.  0.  0.  0.  0.  0.  0.  0.  0.  0.  0.  0.\n",
      "  0.  0.  0.  0.  0.  0.  0.  0.  0.  0.  0.  0.  0.  0.  0.  0.  0.  0.\n",
      "  0.  0.  0.  0.  0.  0.  0.  0.  0.  0.  0.  0.  0.  0.  0.  0.  0.  0.\n",
      "  0.  0.  0.  1.  0.  0.  0.  0.  0.  0.  0.  0.  0.  0.  0.  0.  0.  0.\n",
      "  0.  0.  0.  0.  0.  0.  0.  0.  0.  0.  0.  0.  0.  0.  0.  0.  0.  0.\n",
      "  0.  0.  0.  0.  0.  0.  0.  0.  0.  0.  0.  0.  0.  0.  0.  0.  0.  0.\n",
      "  0.  0.  0.  0.  0.  0.  0.  0.  0.  0.  0.  0.  0.  0.  0.  0.  0.  0.\n",
      "  0.  0.  0.  0.  0.  0.  0.  0.  0.  0.  0.  0.  0.  0.  0.  0.  0.  0.\n",
      "  0.  0.  0.  0.  0.  0.  0.  0.  0.  0.  0.  0.  0.  0.  0.  0.  0.  0.\n",
      "  0.  0.  0.  0.  0.  0.  0.  0.  0.  0.  1.  0.  0.  0.  0.  0.  0.  0.\n",
      "  0.  0.  0.  0.  0.  0.  0.  0.  0.  0.  0.  0.  0.  0.  0.  0.  0.  0.\n",
      "  0.  0.  0.  0.  0.  0.  0.  0.  0.  0.  0.  0.  0.  0.  0.  0.  0.  0.\n",
      "  0.  0.  0.  0.  0.  0.  0.  0.  0.  0.  0.  0.  0.  0.  0.  0.  0.  0.\n",
      "  0.  0.  0.  0.  0.  0.  0.  0.  0.  0.  0.  0.  0.  0.  0.  0.  0.  0.\n",
      "  0.  0.  0.  0.  0.  0.  0.  0.  0.  0.  0.  0.  0.  0.  0.  0.  0.  0.\n",
      "  0.  0.  0.  0.  0.  0.  0.  0.  0.  0.  0.  0.  0.  0.  0.  0.  0.  0.\n",
      "  0.  0.  0.  0.  0.  0.  0.  0.  0.  0.  0.  0.  0.  0.  0.  0.  0.  0.\n",
      "  0.  1.  0.  0.  0.  0.  0.  0.  0.  0.  0.  0.  0.  0.  0.  0.  0.  0.\n",
      "  0.  0.  0.  0.  0.  0.  0.  0.  0.  0.]\n"
     ]
    }
   ],
   "source": [
    "# One-hot encoding the output into vector mode, each of length 1000\n",
    "tokenizer = Tokenizer(num_words=1000)\n",
    "x_train = tokenizer.sequences_to_matrix(x_train, mode='binary')\n",
    "x_test = tokenizer.sequences_to_matrix(x_test, mode='binary')\n",
    "print(x_train[0])"
   ]
  },
  {
   "cell_type": "markdown",
   "metadata": {},
   "source": [
    "And we'll also one-hot encode the output."
   ]
  },
  {
   "cell_type": "code",
   "execution_count": 5,
   "metadata": {},
   "outputs": [
    {
     "name": "stdout",
     "output_type": "stream",
     "text": [
      "(25000L, 2L)\n",
      "(25000L, 2L)\n"
     ]
    }
   ],
   "source": [
    "# One-hot encoding the output\n",
    "num_classes = 2\n",
    "y_train = keras.utils.to_categorical(y_train, num_classes)\n",
    "y_test = keras.utils.to_categorical(y_test, num_classes)\n",
    "print(y_train.shape)\n",
    "print(y_test.shape)"
   ]
  },
  {
   "cell_type": "markdown",
   "metadata": {},
   "source": [
    "## 4. Building the  model architecture\n",
    "Build a model here using sequential. Feel free to experiment with different layers and sizes! Also, experiment adding dropout to reduce overfitting."
   ]
  },
  {
   "cell_type": "code",
   "execution_count": 41,
   "metadata": {},
   "outputs": [
    {
     "name": "stdout",
     "output_type": "stream",
     "text": [
      "_________________________________________________________________\n",
      "Layer (type)                 Output Shape              Param #   \n",
      "=================================================================\n",
      "dense_40 (Dense)             (None, 4)                 4004      \n",
      "_________________________________________________________________\n",
      "dropout_27 (Dropout)         (None, 4)                 0         \n",
      "_________________________________________________________________\n",
      "dense_41 (Dense)             (None, 2)                 10        \n",
      "=================================================================\n",
      "Total params: 4,014\n",
      "Trainable params: 4,014\n",
      "Non-trainable params: 0\n",
      "_________________________________________________________________\n"
     ]
    }
   ],
   "source": [
    "from keras.optimizers import SGD, Adam\n",
    "# TODO: Build the model architecture\n",
    "model = Sequential()\n",
    "model.add(Dense(4, activation='tanh', input_shape=(1000,)))\n",
    "model.add(Dropout(.2))\n",
    "#model.add(Dense(8, activation='tanh'))\n",
    "#model.add(Dropout(.1))\n",
    "model.add(Dense(2, activation='softmax'))\n",
    "\n",
    "# TODO: Compile the model using a loss function and an optimizer.\n",
    "model.compile(loss = 'categorical_crossentropy', optimizer= Adam(lr=0.005), metrics=['accuracy'])\n",
    "model.summary()"
   ]
  },
  {
   "cell_type": "markdown",
   "metadata": {},
   "source": [
    "## 5. Training the model\n",
    "Run the model here. Experiment with different batch_size, and number of epochs!"
   ]
  },
  {
   "cell_type": "code",
   "execution_count": 42,
   "metadata": {},
   "outputs": [
    {
     "name": "stdout",
     "output_type": "stream",
     "text": [
      "Epoch 1/200\n",
      "Epoch 2/200\n",
      "Epoch 3/200\n",
      "Epoch 4/200\n",
      "Epoch 5/200\n",
      "Epoch 6/200\n",
      "Epoch 7/200\n",
      "Epoch 8/200\n",
      "Epoch 9/200\n",
      "Epoch 10/200\n",
      "Epoch 11/200\n",
      "Epoch 12/200\n",
      "Epoch 13/200\n",
      "Epoch 14/200\n",
      "Epoch 15/200\n",
      "Epoch 16/200\n",
      "Epoch 17/200\n",
      "Epoch 18/200\n",
      "Epoch 19/200\n",
      "Epoch 20/200\n",
      "Epoch 21/200\n",
      "Epoch 22/200\n",
      "Epoch 23/200\n",
      "Epoch 24/200\n",
      "Epoch 25/200\n",
      "Epoch 26/200\n",
      "Epoch 27/200\n",
      "Epoch 28/200\n",
      "Epoch 29/200\n",
      "Epoch 30/200\n",
      "Epoch 31/200\n",
      "Epoch 32/200\n",
      "Epoch 33/200\n",
      "Epoch 34/200\n",
      "Epoch 35/200\n",
      "Epoch 36/200\n",
      "Epoch 37/200\n",
      "Epoch 38/200\n",
      "Epoch 39/200\n",
      "Epoch 40/200\n",
      "Epoch 41/200\n",
      "Epoch 42/200\n",
      "Epoch 43/200\n",
      "Epoch 44/200\n",
      "Epoch 45/200\n",
      "Epoch 46/200\n",
      "Epoch 47/200\n",
      "Epoch 48/200\n",
      "Epoch 49/200\n",
      "Epoch 50/200\n",
      "Epoch 51/200\n",
      "Epoch 52/200\n",
      "Epoch 53/200\n",
      "Epoch 54/200\n",
      "Epoch 55/200\n",
      "Epoch 56/200\n",
      "Epoch 57/200\n",
      "Epoch 58/200\n",
      "Epoch 59/200\n",
      "Epoch 60/200\n",
      "Epoch 61/200\n",
      "Epoch 62/200\n",
      "Epoch 63/200\n",
      "Epoch 64/200\n",
      "Epoch 65/200\n",
      "Epoch 66/200\n",
      "Epoch 67/200\n",
      "Epoch 68/200\n",
      "Epoch 69/200\n",
      "Epoch 70/200\n",
      "Epoch 71/200\n",
      "Epoch 72/200\n",
      "Epoch 73/200\n",
      "Epoch 74/200\n",
      "Epoch 75/200\n",
      "Epoch 76/200\n",
      "Epoch 77/200\n",
      "Epoch 78/200\n",
      "Epoch 79/200\n",
      "Epoch 80/200\n",
      "Epoch 81/200\n",
      "Epoch 82/200\n",
      "Epoch 83/200\n",
      "Epoch 84/200\n",
      "Epoch 85/200\n",
      "Epoch 86/200\n",
      "Epoch 87/200\n",
      "Epoch 88/200\n",
      "Epoch 89/200\n",
      "Epoch 90/200\n",
      "Epoch 91/200\n",
      "Epoch 92/200\n",
      "Epoch 93/200\n",
      "Epoch 94/200\n",
      "Epoch 95/200\n",
      "Epoch 96/200\n",
      "Epoch 97/200\n",
      "Epoch 98/200\n",
      "Epoch 99/200\n",
      "Epoch 100/200\n",
      "Epoch 101/200\n",
      "Epoch 102/200\n",
      "Epoch 103/200\n",
      "Epoch 104/200\n",
      "Epoch 105/200\n",
      "Epoch 106/200\n",
      "Epoch 107/200\n",
      "Epoch 108/200\n",
      "Epoch 109/200\n",
      "Epoch 110/200\n",
      "Epoch 111/200\n",
      "Epoch 112/200\n",
      "Epoch 113/200\n",
      "Epoch 114/200\n",
      "Epoch 115/200\n",
      "Epoch 116/200\n",
      "Epoch 117/200\n",
      "Epoch 118/200\n",
      "Epoch 119/200\n",
      "Epoch 120/200\n",
      "Epoch 121/200\n",
      "Epoch 122/200\n",
      "Epoch 123/200\n",
      "Epoch 124/200\n",
      "Epoch 125/200\n",
      "Epoch 126/200\n",
      "Epoch 127/200\n",
      "Epoch 128/200\n",
      "Epoch 129/200\n",
      "Epoch 130/200\n",
      "Epoch 131/200\n",
      "Epoch 132/200\n",
      "Epoch 133/200\n",
      "Epoch 134/200\n",
      "Epoch 135/200\n",
      "Epoch 136/200\n",
      "Epoch 137/200\n",
      "Epoch 138/200\n",
      "Epoch 139/200\n",
      "Epoch 140/200\n",
      "Epoch 141/200\n",
      "Epoch 142/200\n",
      "Epoch 143/200\n",
      "Epoch 144/200\n",
      "Epoch 145/200\n",
      "Epoch 146/200\n",
      "Epoch 147/200\n",
      "Epoch 148/200\n",
      "Epoch 149/200\n",
      "Epoch 150/200\n",
      "Epoch 151/200\n",
      "Epoch 152/200\n",
      "Epoch 153/200\n",
      "Epoch 154/200\n",
      "Epoch 155/200\n",
      "Epoch 156/200\n",
      "Epoch 157/200\n",
      "Epoch 158/200\n",
      "Epoch 159/200\n",
      "Epoch 160/200\n",
      "Epoch 161/200\n",
      "Epoch 162/200\n",
      "Epoch 163/200\n",
      "Epoch 164/200\n",
      "Epoch 165/200\n",
      "Epoch 166/200\n",
      "Epoch 167/200\n",
      "Epoch 168/200\n",
      "Epoch 169/200\n",
      "Epoch 170/200\n",
      "Epoch 171/200\n",
      "Epoch 172/200\n",
      "Epoch 173/200\n",
      "Epoch 174/200\n",
      "Epoch 175/200\n",
      "Epoch 176/200\n",
      "Epoch 177/200\n",
      "Epoch 178/200\n",
      "Epoch 179/200\n",
      "Epoch 180/200\n",
      "Epoch 181/200\n",
      "Epoch 182/200\n",
      "Epoch 183/200\n",
      "Epoch 184/200\n",
      "Epoch 185/200\n",
      "Epoch 186/200\n",
      "Epoch 187/200\n",
      "Epoch 188/200\n",
      "Epoch 189/200\n",
      "Epoch 190/200\n",
      "Epoch 191/200\n",
      "Epoch 192/200\n",
      "Epoch 193/200\n",
      "Epoch 194/200\n",
      "Epoch 195/200\n",
      "Epoch 196/200\n",
      "Epoch 197/200\n",
      "Epoch 198/200\n",
      "Epoch 199/200\n",
      "Epoch 200/200\n"
     ]
    }
   ],
   "source": [
    "# TODO: Run the model. Feel free to experiment with different batch sizes and number of epochs.\n",
    "# Training the model\n",
    "history = model.fit(x_train, y_train, epochs=200, batch_size=20, verbose=100)#validation_split=0.33,\n",
    "#plt.plot(history.history['acc'])\n",
    "#plt.plot(history.history['val_acc'])\n",
    "#plt.title('model accuracy')\n",
    "#plt.ylabel('accuracy')\n",
    "#plt.xlabel('epoch')\n",
    "#plt.legend(['train', 'test'], loc='upper left')\n",
    "#plt.show()"
   ]
  },
  {
   "cell_type": "markdown",
   "metadata": {},
   "source": [
    "## 6. Evaluating the model\n",
    "This will give you the accuracy of the model, as evaluated on the testing set. Can you get something over 85%?"
   ]
  },
  {
   "cell_type": "code",
   "execution_count": 43,
   "metadata": {},
   "outputs": [
    {
     "name": "stdout",
     "output_type": "stream",
     "text": [
      "('Accuracy: ', 0.84760000000000002)\n"
     ]
    }
   ],
   "source": [
    "score = model.evaluate(x_test, y_test, verbose=0)\n",
    "print(\"Accuracy: \", score[1])"
   ]
  },
  {
   "cell_type": "code",
   "execution_count": null,
   "metadata": {
    "collapsed": true
   },
   "outputs": [],
   "source": []
  }
 ],
 "metadata": {
  "kernelspec": {
   "display_name": "Python 2",
   "language": "python",
   "name": "python2"
  },
  "language_info": {
   "codemirror_mode": {
    "name": "ipython",
    "version": 2
   },
   "file_extension": ".py",
   "mimetype": "text/x-python",
   "name": "python",
   "nbconvert_exporter": "python",
   "pygments_lexer": "ipython2",
   "version": "2.7.13"
  }
 },
 "nbformat": 4,
 "nbformat_minor": 2
}
